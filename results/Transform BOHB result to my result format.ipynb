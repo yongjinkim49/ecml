{
 "cells": [
  {
   "cell_type": "code",
   "execution_count": 1,
   "metadata": {},
   "outputs": [],
   "source": [
    "%matplotlib inline\n",
    "\n",
    "import sys\n",
    "import os\n",
    "import numpy as np\n",
    "import json\n",
    "import pandas as pd\n",
    "import traceback\n",
    "\n",
    "sys.path.append(\"../../../\") # add results folder as a python path \n",
    "from viz import *\n",
    "from analyze import *"
   ]
  },
  {
   "cell_type": "code",
   "execution_count": 2,
   "metadata": {},
   "outputs": [],
   "source": [
    "path = os.path.dirname(\"./data2/BOHB/\")\n",
    "target_dirs = os.listdir(path)"
   ]
  },
  {
   "cell_type": "code",
   "execution_count": 3,
   "metadata": {},
   "outputs": [],
   "source": [
    "def getTrial(result):\n",
    "    cum_exec_time = []\n",
    "    cum_opt_time = []\n",
    "    cum_first = True\n",
    "\n",
    "    exec_times = []\n",
    "    opt_times = []\n",
    "    epochs = []\n",
    "    model_idx = []\n",
    "    errors = []\n",
    "    accuracies = []\n",
    "\n",
    "    for r in result:\n",
    "        dict_r = json.loads(r)\n",
    "        exec_time = dict_r[3]['info']['elapsed time']\n",
    "        opt_time = dict_r[2]['finished'] - dict_r[2]['submitted']\n",
    "\n",
    "        if cum_first is True:\n",
    "            cum_exec_time_last_value = 0.0\n",
    "            cum_opt_time_last_value = 0.0\n",
    "            cum_first = False\n",
    "\n",
    "        if cum_exec_time_last_value <= 86400:\n",
    "            exec_times.append(exec_time)\n",
    "            opt_times.append(opt_time)\n",
    "            cum_exec_time.append((cum_exec_time_last_value + exec_time))\n",
    "            cum_opt_time.append((cum_opt_time_last_value + opt_time))\n",
    "            epochs.append(dict_r[1])\n",
    "            model_idx.append(dict_r[0])\n",
    "            errors.append(dict_r[3]['loss'])\n",
    "            accuracies.append(dict_r[3]['info']['test accuracy'])\n",
    "\n",
    "            cum_exec_time_last_value = cum_exec_time[len(cum_exec_time)-1]\n",
    "            cum_opt_time_last_value = cum_opt_time[len(cum_opt_time)-1]\n",
    "            \n",
    "            dict_result = dict([(\"cum_exec_time\", cum_exec_time),\n",
    "                        (\"exec_time\", exec_times),\n",
    "                        (\"opt_time\", opt_times),\n",
    "                        (\"model_index\", model_idx),\n",
    "                        (\"cum_opt_time\", cum_opt_time),\n",
    "                        (\"error\", errors),\n",
    "                        (\"accuracy\", accuracies),\n",
    "                        (\"epoch\", epochs)])\n",
    "        else:\n",
    "            continue\n",
    "        \n",
    "    return dict_result"
   ]
  },
  {
   "cell_type": "code",
   "execution_count": 4,
   "metadata": {},
   "outputs": [],
   "source": [
    "bohb_results = dict()\n",
    "for d in target_dirs:\n",
    "    trial_num = d[5:]\n",
    "    \n",
    "    with open(path+'/'+d+'/'+'results.json') as rf:\n",
    "        result = rf.readlines()\n",
    "    \n",
    "    result = [x.strip() for x in result]\n",
    "    bohb_results[trial_num]=getTrial(result)"
   ]
  },
  {
   "cell_type": "code",
   "execution_count": 5,
   "metadata": {},
   "outputs": [],
   "source": [
    "with open('cut_data2_result.json', 'w') as outfile:\n",
    "    json.dump(bohb_results, outfile)"
   ]
  }
 ],
 "metadata": {
  "kernelspec": {
   "display_name": "Python 3",
   "language": "python",
   "name": "python3"
  },
  "language_info": {
   "codemirror_mode": {
    "name": "ipython",
    "version": 3
   },
   "file_extension": ".py",
   "mimetype": "text/x-python",
   "name": "python",
   "nbconvert_exporter": "python",
   "pygments_lexer": "ipython3",
   "version": "3.6.7"
  }
 },
 "nbformat": 4,
 "nbformat_minor": 2
}
