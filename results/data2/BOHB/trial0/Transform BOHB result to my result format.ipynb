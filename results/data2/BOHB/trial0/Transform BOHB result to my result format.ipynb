{
 "cells": [
  {
   "cell_type": "code",
   "execution_count": 2,
   "metadata": {},
   "outputs": [],
   "source": [
    "%matplotlib inline\n",
    "\n",
    "import sys\n",
    "import os\n",
    "import numpy as np\n",
    "import json\n",
    "import pandas as pd\n",
    "import traceback\n",
    "\n",
    "sys.path.append(\"../../../\") # add results folder as a python path \n",
    "from viz import *\n",
    "from analyze import *"
   ]
  },
  {
   "cell_type": "code",
   "execution_count": 28,
   "metadata": {},
   "outputs": [
    {
     "data": {
      "text/plain": [
       "[[0, 0, 0],\n",
       " 1.6666666666666665,\n",
       " {'finished': 1547294912.975297,\n",
       "  'started': 1547294912.9709678,\n",
       "  'submitted': 1547294912.9707942},\n",
       " {'info': {'elapsed time': 14.483183677777777,\n",
       "   'hyperparams': {'c1_depth': 66.0,\n",
       "    'c2_depth': 213.0,\n",
       "    'f1_width': 410.0,\n",
       "    'keep_prop_rate': 0.548599243,\n",
       "    'learning_rate': 0.000137777,\n",
       "    'p1_size': 3.0,\n",
       "    'p2_size': 3.0,\n",
       "    'reg_param': 0.5393981929999999,\n",
       "    'window_size': 2.0},\n",
       "   'test accuracy': 0.44120001499999995},\n",
       "  'loss': 0.558799985},\n",
       " None]"
      ]
     },
     "execution_count": 28,
     "metadata": {},
     "output_type": "execute_result"
    }
   ],
   "source": [
    "with open('results.json') as rf:\n",
    "    result = rf.readlines()\n",
    "\n",
    "result = [x.strip() for x in result]\n",
    "len(result)\n",
    "r = result[0]\n",
    "dict_r = json.loads(r)\n",
    "key = dict_r[0]\n",
    "epoch = dict_r[1]\n",
    "opt_time = dict_r[2]['finished'] - dict_r[2]['submitted'] \n",
    "exec_time = dict_r[3]['info']['elapsed time']\n",
    "acc =  dict_r[3]['info']['accuracy']\n",
    "err = dict_r[3]['info']['loss']\n",
    "dict_r"
   ]
  }
 ],
 "metadata": {
  "kernelspec": {
   "display_name": "Python 3",
   "language": "python",
   "name": "python3"
  },
  "language_info": {
   "codemirror_mode": {
    "name": "ipython",
    "version": 3
   },
   "file_extension": ".py",
   "mimetype": "text/x-python",
   "name": "python",
   "nbconvert_exporter": "python",
   "pygments_lexer": "ipython3",
   "version": "3.6.1"
  }
 },
 "nbformat": 4,
 "nbformat_minor": 2
}
